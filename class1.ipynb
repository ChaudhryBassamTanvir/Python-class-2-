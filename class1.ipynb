{
 "cells": [
  {
   "cell_type": "code",
   "execution_count": 4,
   "metadata": {},
   "outputs": [
    {
     "data": {
      "text/html": [
       "<div>\n",
       "<style scoped>\n",
       "    .dataframe tbody tr th:only-of-type {\n",
       "        vertical-align: middle;\n",
       "    }\n",
       "\n",
       "    .dataframe tbody tr th {\n",
       "        vertical-align: top;\n",
       "    }\n",
       "\n",
       "    .dataframe thead th {\n",
       "        text-align: right;\n",
       "    }\n",
       "</style>\n",
       "<table border=\"1\" class=\"dataframe\">\n",
       "  <thead>\n",
       "    <tr style=\"text-align: right;\">\n",
       "      <th></th>\n",
       "      <th>Operator</th>\n",
       "      <th>Name</th>\n",
       "      <th>Example</th>\n",
       "      <th>Try it</th>\n",
       "    </tr>\n",
       "  </thead>\n",
       "  <tbody>\n",
       "    <tr>\n",
       "      <th>0</th>\n",
       "      <td>+</td>\n",
       "      <td>Addition</td>\n",
       "      <td>x + y</td>\n",
       "      <td>Try it »</td>\n",
       "    </tr>\n",
       "    <tr>\n",
       "      <th>1</th>\n",
       "      <td>-</td>\n",
       "      <td>Subtraction</td>\n",
       "      <td>x - y</td>\n",
       "      <td>Try it »</td>\n",
       "    </tr>\n",
       "    <tr>\n",
       "      <th>2</th>\n",
       "      <td>*</td>\n",
       "      <td>Multiplication</td>\n",
       "      <td>x * y</td>\n",
       "      <td>Try it »</td>\n",
       "    </tr>\n",
       "    <tr>\n",
       "      <th>3</th>\n",
       "      <td>/</td>\n",
       "      <td>Division</td>\n",
       "      <td>x / y</td>\n",
       "      <td>Try it »</td>\n",
       "    </tr>\n",
       "    <tr>\n",
       "      <th>4</th>\n",
       "      <td>%</td>\n",
       "      <td>Modulus</td>\n",
       "      <td>x % y</td>\n",
       "      <td>Try it »</td>\n",
       "    </tr>\n",
       "    <tr>\n",
       "      <th>5</th>\n",
       "      <td>**</td>\n",
       "      <td>Exponentiation</td>\n",
       "      <td>x ** y</td>\n",
       "      <td>Try it »</td>\n",
       "    </tr>\n",
       "    <tr>\n",
       "      <th>6</th>\n",
       "      <td>//</td>\n",
       "      <td>Floor division</td>\n",
       "      <td>x // y</td>\n",
       "      <td>Try it »</td>\n",
       "    </tr>\n",
       "  </tbody>\n",
       "</table>\n",
       "</div>"
      ],
      "text/plain": [
       "  Operator            Name Example    Try it\n",
       "0        +        Addition   x + y  Try it »\n",
       "1        -     Subtraction   x - y  Try it »\n",
       "2        *  Multiplication   x * y  Try it »\n",
       "3        /        Division   x / y  Try it »\n",
       "4        %         Modulus   x % y  Try it »\n",
       "5       **  Exponentiation  x ** y  Try it »\n",
       "6       //  Floor division  x // y  Try it »"
      ]
     },
     "execution_count": 4,
     "metadata": {},
     "output_type": "execute_result"
    }
   ],
   "source": [
    "\n",
    "import pandas as pd\n",
    "table = pd.read_html('https://www.w3schools.com/python/python_operators.asp')\n",
    "table[0]"
   ]
  },
  {
   "cell_type": "code",
   "execution_count": 5,
   "metadata": {},
   "outputs": [
    {
     "name": "stdout",
     "output_type": "stream",
     "text": [
      "Bassam\n",
      "4\n",
      "7.0\n",
      "Bassam\n",
      "8.9\n",
      "Bani 89 9.3\n"
     ]
    }
   ],
   "source": [
    "a,b,c= \"Bassam\", 4, 7.0\n",
    "print(a)\n",
    "print(b)\n",
    "print(c)\n",
    "\n",
    "data = (\"Bassam\",7.0,8.9)\n",
    "print(data[0])\n",
    "print(data[2])\n",
    "\n",
    "dt=(\"Bani\", 89,9.3)\n",
    "print(*dt) #print all of them "
   ]
  },
  {
   "cell_type": "markdown",
   "metadata": {},
   "source": [
    "#List\n",
    "dynamic length\n",
    "hetrogenous data types (Multiple type)\n",
    "index\n",
    "postive 0 to n-1\n",
    "negative -1 to length\n",
    "slicing\n",
    "variable names[start:end:step]\n",
    "start : int = include\n",
    "end : int = n-1\n",
    "step : int = sequance"
   ]
  },
  {
   "cell_type": "code",
   "execution_count": 3,
   "metadata": {},
   "outputs": [
    {
     "name": "stdout",
     "output_type": "stream",
     "text": [
      "['a', 'b', 'c', 'd', 'e', 'f', 'g', 'h']\n"
     ]
    }
   ],
   "source": [
    "from typing import Any\n",
    "characters : list[Any]=list('abcdefgh')\n",
    "print(characters)\n"
   ]
  },
  {
   "cell_type": "code",
   "execution_count": 16,
   "metadata": {},
   "outputs": [
    {
     "name": "stdout",
     "output_type": "stream",
     "text": [
      "['a', 'b', 'c', 'd', 'e', 'f', 'g', 'h']\n",
      "['a', 'b']\n",
      "['a', 'b']\n",
      "['a', 'b']\n",
      "['a', 'c', 'e']\n",
      "['a', 'b']\n",
      "['a', 'b', 'c', 'd', 'e', 'f', 'g', 'h']\n",
      "['a', 'b', 'c', 'd', 'e', 'f', 'g', 'h']\n",
      "[]\n",
      "['b', 'c', 'd']\n",
      "['h', 'g', 'f']\n",
      "['h', 'g', 'f', 'e', 'd', 'c', 'b', 'a']\n"
     ]
    }
   ],
   "source": [
    "#                        0    1    2   3     4    5   6     7\n",
    "characters : list[Any]=['a', 'b', 'c', 'd', 'e', 'f', 'g', 'h']\n",
    "#                        -8   -7   -6  -5   -4   -3  -2    -1\n",
    "print(characters)\n",
    "print(characters[0:2])\n",
    "print(characters[-8:-6])\n",
    "print(characters[0:2:1]) #start index , ending index 2-1(mean 2 is not include),no.of steps\n",
    "print(characters[0:6:2]) \n",
    "print(characters[:2]) #mean from the start to the ending \n",
    "print(characters[::1])#mean all by taking one step \n",
    "print(characters[::1])\n",
    "print(characters[-1:-5])#return empty bcoz wo kabhi poonch he ni pae ga coz they move from left to right\n",
    "print(characters[1:-4])\n",
    "print(characters[-1:-4:-1])#reverse \n",
    "print(characters[::-1])#reverse \n"
   ]
  },
  {
   "cell_type": "code",
   "execution_count": 17,
   "metadata": {},
   "outputs": [
    {
     "data": {
      "text/plain": [
       "['append',\n",
       " 'clear',\n",
       " 'copy',\n",
       " 'count',\n",
       " 'extend',\n",
       " 'index',\n",
       " 'insert',\n",
       " 'pop',\n",
       " 'remove',\n",
       " 'reverse',\n",
       " 'sort']"
      ]
     },
     "execution_count": 17,
     "metadata": {},
     "output_type": "execute_result"
    }
   ],
   "source": [
    "[i for i in dir(list) if \"__\" not in i]"
   ]
  },
  {
   "cell_type": "code",
   "execution_count": 2,
   "metadata": {},
   "outputs": [
    {
     "name": "stdout",
     "output_type": "stream",
     "text": [
      "[1, 2, 3, 4, 5]\n",
      "3\n",
      "['a', 'b', 'Bassam', 'Muhammad', 'Hugin']\n",
      "['a', 'b', 'Jibreel', 'Bassam', 'Muhammad', 'Hugin']\n"
     ]
    }
   ],
   "source": [
    "a: list[str] = [1,2,3,4,5]\n",
    "#del a # remove object from memory\n",
    "#a.clear() #remove all elements\n",
    "print(a)\n",
    "del a[4]\n",
    "b=a.pop(2)\n",
    "print(b)\n",
    "\n",
    "name:list[str]=['a','b']\n",
    "name.append('Bassam')#element in last \n",
    "name.append('Muhammad')\n",
    "name.append('Hugin')\n",
    "\n",
    "print(name)\n",
    "name.insert(2,\"Jibreel\") #according to you\n",
    "print(name)\n",
    "\n"
   ]
  },
  {
   "cell_type": "code",
   "execution_count": 3,
   "metadata": {},
   "outputs": [
    {
     "name": "stdout",
     "output_type": "stream",
     "text": [
      "['a', 'b', 'c', 'd', 'e', 'f']\n",
      "['a', 'b', 'c', 'd', 'e', 'f']\n",
      "['Hugin', 'b', 'c', 'd', 'e', 'f']\n",
      "['Hugin', 'b', 'c', 'd', 'e', 'f']\n",
      "['a', 'b', 'c', 'd', 'e', 'f']\n",
      "['a', 'b', 'c', 'd', 'e', 'f']\n",
      "c ['a', 'b', 'c', 'd', 'e', 'f']\n",
      "d ['Pakistan', 'b', 'c', 'd', 'e', 'f']\n"
     ]
    }
   ],
   "source": [
    "a:list[str]=['a','b','c','d','e','f']\n",
    "b=a\n",
    "print(a)\n",
    "print(b)\n",
    "b[0]=\"Hugin\"\n",
    "#python is mutable mean editable u can edit in it\n",
    "print(a)\n",
    "print(b)\n",
    "#result in added in both\n",
    "c:list[str]=['a','b','c','d','e','f']\n",
    "d=c.copy() #Deep Copy\n",
    "print(c)\n",
    "print(d)\n",
    "d[0]=\"Pakistan\"\n",
    "print('c',c)\n",
    "print(\"d\",d)\n"
   ]
  },
  {
   "cell_type": "code",
   "execution_count": 29,
   "metadata": {},
   "outputs": [
    {
     "name": "stdout",
     "output_type": "stream",
     "text": [
      "4\n"
     ]
    }
   ],
   "source": [
    "a:list[int]=[1,3,4,6,1,2,3,4,3,8,3]\n",
    "print(a.count(3))"
   ]
  },
  {
   "cell_type": "code",
   "execution_count": 34,
   "metadata": {},
   "outputs": [
    {
     "name": "stdout",
     "output_type": "stream",
     "text": [
      "['Bassam', 'jny', 'effi', ['Muhammad', 'Jibreel', 'Bestie']]\n",
      "['Bassam', 'jny', 'effi', 'Muhammad', 'Jibreel', 'Bestie']\n"
     ]
    }
   ],
   "source": [
    "name:list[str]=[\"Bassam\",\"Hugin\",\"effi\"]\n",
    "new_member:list[str]=[\"Muhammad\",\"Jibreel\",\"Bestie\"]\n",
    "name.append(new_member)\n",
    "print(name)#but it append as it is object in my list we want names as index wise\n",
    " \n",
    "member:list[str]=[\"Bassam\",\"Hugin\",\"effi\"]\n",
    "new_arrival:list[str]=[\"Muhammad\",\"Jibreel\",\"Bestie\"]\n",
    "member.extend(new_arrival)\n",
    "print(member)\n",
    "\n",
    "#help method for anything is help(print),object/method both help available object? object?? ,?object\n",
    " "
   ]
  },
  {
   "cell_type": "code",
   "execution_count": 46,
   "metadata": {},
   "outputs": [
    {
     "name": "stdout",
     "output_type": "stream",
     "text": [
      "[9, 2, 10, 5, 6, 3, 2, 4, 5, 6, 1]\n",
      "10\n",
      "[1, 2, 2, 3, 4, 5, 5, 6, 6, 9, 10]\n",
      "[10, 9, 6, 6, 5, 5, 4, 3, 2, 2, 1]\n",
      "[1, 2, 2, 3, 4, 5, 5, 6, 6, 9, 10]\n"
     ]
    }
   ],
   "source": [
    "a:list[int]=[1,9,2,10,5,6,3,2,4,5,6,1]\n",
    "a.remove(1) #first appearence\n",
    "print(a)\n",
    "print(a.index(1,2)) # mean k 2nd index k bad 1 ko dhoondna shuru kro \n",
    "a.sort()\n",
    "print(a)\n",
    "a.sort(reverse=True)\n",
    "print(a)\n",
    "a.reverse() #in-memory not inline in-memory=change real data\n",
    "print(a)"
   ]
  },
  {
   "cell_type": "code",
   "execution_count": 3,
   "metadata": {},
   "outputs": [
    {
     "data": {
      "text/plain": [
       "[(0, 'alice'), (1, 'david'), (2, 'carolina')]"
      ]
     },
     "execution_count": 3,
     "metadata": {},
     "output_type": "execute_result"
    }
   ],
   "source": [
    "magicians: list[str] = ['alice', 'david', 'carolina']\n",
    "list(enumerate(magicians))"
   ]
  }
 ],
 "metadata": {
  "kernelspec": {
   "display_name": "Python 3",
   "language": "python",
   "name": "python3"
  },
  "language_info": {
   "codemirror_mode": {
    "name": "ipython",
    "version": 3
   },
   "file_extension": ".py",
   "mimetype": "text/x-python",
   "name": "python",
   "nbconvert_exporter": "python",
   "pygments_lexer": "ipython3",
   "version": "3.12.2"
  }
 },
 "nbformat": 4,
 "nbformat_minor": 2
}
